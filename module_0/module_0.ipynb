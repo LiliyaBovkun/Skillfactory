{
 "cells": [
  {
   "cell_type": "code",
   "execution_count": 124,
   "metadata": {},
   "outputs": [
    {
     "name": "stdout",
     "output_type": "stream",
     "text": [
      "Ваш алгоритм угадывает число в среднем за 6 попыток\n"
     ]
    },
    {
     "data": {
      "text/plain": [
       "6"
      ]
     },
     "execution_count": 124,
     "metadata": {},
     "output_type": "execute_result"
    }
   ],
   "source": [
    "import numpy as np\n",
    "import math\n",
    "\n",
    "\n",
    "number = np.random.randint(1,101)   # загадываем число\n",
    "\n",
    "\n",
    "def game_core_LB(number):\n",
    "    '''Сначала устанавливаем любое random число, а потом сокращаем диапазон поиска вдвое.\n",
    "        Функция принимает загаданное число и возвращает число попыток'''\n",
    "    predict = np.random.randint(1,101)   # пытаемся угадать число с первого раза\n",
    "    search_from = 1   # задаем нижнюю границу поиска\n",
    "    search_to = 100   # задаем верхнюю границу поиска\n",
    "    search_middle = int(search_to/2)   # определемя середину диапазона поиска\n",
    "    count=1   # счетчик попыток\n",
    "\n",
    "    while number != predict:   # задаем цикл, который работает пока не найдет число\n",
    "        count=count+1   # плюсуем попытку\n",
    "        \n",
    "        # если загаданное число меньше предложенного функцией, то верхняя граница поиска сдвигается на 1 шаг вниз от предложенного\n",
    "        if number < predict: \n",
    "            search_to = predict-1\n",
    "        # если загаданное число больше предложенного функцией, то нижняя граница поиска сдвигается на 1 шаг вверх от предложенного\n",
    "        else:\n",
    "            search_from = predict+1\n",
    "        \n",
    "        # пробуем угадать число, сделав его равным середине диапазона поиска\n",
    "        predict = int((search_from+search_to)/2)    \n",
    "        \n",
    "    return(count)   # выход из цикла, если угадали\n",
    "\n",
    "\n",
    "def score_game(game_core):\n",
    "    '''Запускаем игру 1000 раз, чтобы узнать, как быстро игра угадывает число'''\n",
    "    count_ls = []\n",
    "    np.random.seed(1)  # фиксируем RANDOM SEED, чтобы ваш эксперимент был воспроизводим!\n",
    "    random_array = np.random.randint(1,101, size=(1000))\n",
    "    for number in random_array:\n",
    "        count_ls.append(game_core(number))\n",
    "    score = int(np.mean(count_ls))\n",
    "    print(f\"Ваш алгоритм угадывает число в среднем за {score} попыток\")\n",
    "    return(score)\n",
    "\n",
    "score_game(game_core_LB)\n",
    "\n"
   ]
  }
 ],
 "metadata": {
  "kernelspec": {
   "display_name": "Python 3",
   "language": "python",
   "name": "python3"
  },
  "language_info": {
   "codemirror_mode": {
    "name": "ipython",
    "version": 3
   },
   "file_extension": ".py",
   "mimetype": "text/x-python",
   "name": "python",
   "nbconvert_exporter": "python",
   "pygments_lexer": "ipython3",
   "version": "3.8.5"
  }
 },
 "nbformat": 4,
 "nbformat_minor": 4
}
